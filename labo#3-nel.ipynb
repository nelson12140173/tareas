{
 "cells": [
  {
   "cell_type": "markdown",
   "id": "70d2ffe1-f8db-463f-a1bd-5580255ed783",
   "metadata": {},
   "source": [
    "Ejercicio #1"
   ]
  },
  {
   "cell_type": "code",
   "execution_count": 1,
   "id": "03adfbe9-31af-4686-878c-6120b6f9978d",
   "metadata": {},
   "outputs": [
    {
     "name": "stdin",
     "output_type": "stream",
     "text": [
      "Ingrese un número entero en decimal:  7\n"
     ]
    },
    {
     "name": "stdout",
     "output_type": "stream",
     "text": [
      "El número 7 en binario es: 111\n"
     ]
    }
   ],
   "source": [
    "def number_decimal_a_binario(number):\n",
    "    if number >= 0:\n",
    "        binario = bin(number)[2:]\n",
    "    else:\n",
    "        binario = \"-\" + bin(abs(number))[2:]\n",
    "    print(f\"El número {number} en binario es: {binario}\")\n",
    "\n",
    "def main():\n",
    "    try:\n",
    "        numero = int(input(\"Ingrese un número entero en decimal: \"))\n",
    "        number_decimal_a_binario(numero)\n",
    "    except ValueError:\n",
    "        print(\"Error: Ingrese un número entero válido.\")\n",
    "\n",
    "main()"
   ]
  },
  {
   "cell_type": "markdown",
   "id": "0e0578d3-945d-47d6-be98-4f216b7c077b",
   "metadata": {},
   "source": [
    "Ejercicio #2"
   ]
  },
  {
   "cell_type": "code",
   "execution_count": 2,
   "id": "8057fbd4-5897-463d-b464-29a7d047430e",
   "metadata": {},
   "outputs": [
    {
     "name": "stdin",
     "output_type": "stream",
     "text": [
      "Ingrese un número entero:  45\n"
     ]
    },
    {
     "name": "stdout",
     "output_type": "stream",
     "text": [
      "El número 45 no es primo.\n"
     ]
    }
   ],
   "source": [
    "def primo(n):\n",
    "    if n <= 1:\n",
    "        return False\n",
    "    for i in range(2, int(n**0.5) + 1):\n",
    "        if n % i == 0:\n",
    "            return False  \n",
    "    return True  \n",
    "\n",
    "number = int(input(\"Ingrese un número entero: \"))\n",
    "if primo(number):\n",
    "    print(f\"El número {number} es primo.\")\n",
    "else:\n",
    "    print(f\"El número {number} no es primo.\")"
   ]
  },
  {
   "cell_type": "markdown",
   "id": "d0900470-9194-4d20-bab8-37118174b736",
   "metadata": {},
   "source": [
    "Ejercicio #3"
   ]
  },
  {
   "cell_type": "code",
   "execution_count": 8,
   "id": "75be53f8-944e-4080-94ca-a22f3fdf21a7",
   "metadata": {},
   "outputs": [
    {
     "name": "stdin",
     "output_type": "stream",
     "text": [
      "Ingrese una lista de números separados por espacios o comas:  4,8,9,10\n"
     ]
    },
    {
     "name": "stdout",
     "output_type": "stream",
     "text": [
      "La desviación estándar es: 2.2776\n"
     ]
    }
   ],
   "source": [
    "def calcular_media(lista):\n",
    "    suma = 0\n",
    "    for numero in lista:\n",
    "        suma += numero\n",
    "    media = suma / len(lista)\n",
    "    return media\n",
    "\n",
    "def desvia_estandar(lista):\n",
    "    media = calcular_media(lista)  \n",
    "    suma_cuadrados = 0\n",
    "    for numero in lista:\n",
    "        suma_cuadrados += (numero - media) ** 2\n",
    "    varianza = suma_cuadrados / len(lista)\n",
    "    desviacion = varianza ** 0.5\n",
    "    return desviacion\n",
    "\n",
    "\n",
    "def result():\n",
    "    numeros = input(\"Ingrese una lista de números separados por espacios o comas: \")\n",
    "    lista = list(map(float, numeros.replace(',', ' ').split()))\n",
    "    resultado = desvia_estandar(lista)\n",
    "    print(f\"La desviación estándar es: {resultado:.4f}\")\n",
    "\n",
    "\n",
    "if __name__ == \"__main__\":\n",
    "    result()\n"
   ]
  },
  {
   "cell_type": "markdown",
   "id": "fb1db886-d50a-4d7c-bfc1-2375cd02fc93",
   "metadata": {},
   "source": [
    "Ejercicio #4"
   ]
  },
  {
   "cell_type": "code",
   "execution_count": 10,
   "id": "109c465f-2e45-4c11-a591-af0c7723432d",
   "metadata": {},
   "outputs": [
    {
     "name": "stdin",
     "output_type": "stream",
     "text": [
      "Ingrese los elementos del arreglo separelos por espacios:  15 2 8 20\n"
     ]
    },
    {
     "name": "stdout",
     "output_type": "stream",
     "text": [
      "Arreglo original: [15, 2, 8, 20]\n",
      "Arreglo ordenado: [2, 8, 15, 20]\n"
     ]
    }
   ],
   "source": [
    "def burbuja(arreglo):\n",
    "    \n",
    "    new_arreglo = arreglo.copy()\n",
    "    n = len(new_arreglo)\n",
    "    \n",
    "    for i in range(n):\n",
    "        for j in range(0, n - i - 1):\n",
    "            if new_arreglo[j] > new_arreglo[j + 1]:\n",
    "                # Intercambiar elementos si están en el orden incorrecto\n",
    "                new_arreglo[j], new_arreglo[j + 1] = new_arreglo[j + 1], new_arreglo[j]\n",
    "    return new_arreglo\n",
    "\n",
    "\n",
    "def result():\n",
    "    \n",
    "    elementos = input(\"Ingrese los elementos del arreglo separelos por espacios: \")\n",
    "    \n",
    "    arreglo = list(map(int, elementos.split()))\n",
    "    \n",
    "    arreglo_ordenado = burbuja(arreglo)\n",
    "    \n",
    "    print(\"Arreglo original:\", arreglo)\n",
    "    print(\"Arreglo ordenado:\", arreglo_ordenado)\n",
    "\n",
    "\n",
    "if __name__ == \"__main__\":\n",
    "    result()"
   ]
  },
  {
   "cell_type": "markdown",
   "id": "141a3580-95c0-48f1-8328-639d86e71153",
   "metadata": {},
   "source": [
    "Ejercicio #5"
   ]
  },
  {
   "cell_type": "code",
   "execution_count": 11,
   "id": "56fbbcc4-84f5-4148-b068-9a37f3b5a8dc",
   "metadata": {},
   "outputs": [
    {
     "name": "stdin",
     "output_type": "stream",
     "text": [
      "Ingrese elementos de la tupla separados por comas (ejemplo: 10, 20, 40, 5, 70):  20, 10, 5, 80\n"
     ]
    },
    {
     "name": "stdout",
     "output_type": "stream",
     "text": [
      "Entrada: (20, 10, 5, 80)\n",
      "Salida: 2010580\n"
     ]
    }
   ],
   "source": [
    "def de_tupla_a_string(tupla):\n",
    "   \n",
    "    resultado = ''.join(map(str, tupla))\n",
    "    return resultado\n",
    "\n",
    "\n",
    "entrada = input(\"Ingrese elementos de la tupla separados por comas (ejemplo: 10, 20, 40, 5, 70): \")\n",
    "\n",
    "\n",
    "try:\n",
    "    tupla = tuple(map(int, entrada.split(',')))\n",
    "    \n",
    "    resultado = de_tupla_a_string(tupla)\n",
    "    print(\"Entrada:\", tupla)\n",
    "    print(\"Salida:\", resultado)\n",
    "except ValueError:\n",
    "    print(\"Error: ingrese solo números separados por comas.\")"
   ]
  },
  {
   "cell_type": "markdown",
   "id": "04035af2-056d-4e30-8935-3cabbe2a404a",
   "metadata": {},
   "source": [
    "Ejercicio #6"
   ]
  },
  {
   "cell_type": "code",
   "execution_count": 12,
   "id": "a2f39374-0539-4dd3-89c8-83f8513e1488",
   "metadata": {},
   "outputs": [
    {
     "name": "stdin",
     "output_type": "stream",
     "text": [
      "Ingrese las tuplas separadas por punto y coma (por ejemplo: (),(), ('X',), ('a', 'b'), ('a', 'b', 'c'), ('d',)):  (),(), ('X',), ('a', 'b'), ('a', 'b', 'c'), ('d',)\n"
     ]
    },
    {
     "name": "stdout",
     "output_type": "stream",
     "text": [
      "Lista original: [(), (), ('X',), ('a', 'b'), ('a', 'b', 'c'), ('d',)]\n",
      "Lista sin tuplas vacías: [('X',), ('a', 'b'), ('a', 'b', 'c'), ('d',)]\n"
     ]
    }
   ],
   "source": [
    "def elimi_tuplas_vacias(lista):\n",
    "    \n",
    "    lista_filtrada = [tupla for tupla in lista if tupla]\n",
    "    return lista_filtrada\n",
    "\n",
    "\n",
    "entrada = input(\"Ingrese las tuplas separadas por punto y coma (por ejemplo: (),(), ('X',), ('a', 'b'), ('a', 'b', 'c'), ('d',)): \")\n",
    "\n",
    "\n",
    "try:\n",
    "    lista = eval(\"[\" + entrada + \"]\")\n",
    "    \n",
    "    if all(isinstance(tupla, tuple) for tupla in lista):\n",
    "        lista_filtrada = elimi_tuplas_vacias(lista)\n",
    "        print(\"Lista original:\", lista)\n",
    "        print(\"Lista sin tuplas vacías:\", lista_filtrada)\n",
    "    else:\n",
    "        print(\"Error: ingresa solo tuplas.\")\n",
    "except:\n",
    "    print(\"Error: ingresa solamente el formato correcto.\")"
   ]
  },
  {
   "cell_type": "markdown",
   "id": "0e93920d-9b77-4823-92a2-825e1fc39d2a",
   "metadata": {},
   "source": [
    "Ejercicio #7"
   ]
  },
  {
   "cell_type": "code",
   "execution_count": 13,
   "id": "1ab26f67-22f3-440e-bf6e-bf0b68a9390a",
   "metadata": {},
   "outputs": [
    {
     "name": "stdin",
     "output_type": "stream",
     "text": [
      "Ingrese una tupla de tuplas con números (ejemplo: ((10, 10, 10, 12), (30, 45, 56, 45), (81, 80, 39, 32))):  (10, 100, 10, 12), (30, 450, 56, 45), (81, 810, 39, 32)\n"
     ]
    },
    {
     "name": "stdout",
     "output_type": "stream",
     "text": [
      "Tupla original: ((10, 100, 10, 12), (30, 450, 56, 45), (81, 810, 39, 32))\n",
      "Promedio de cada tupla: (33.0, 145.25, 240.5)\n"
     ]
    }
   ],
   "source": [
    "def calculo_promedios(tuplas):\n",
    "    \n",
    "    promedios = tuple(sum(tupla) / len(tupla) for tupla in tuplas)\n",
    "    return promedios\n",
    "\n",
    "\n",
    "entrada = input(\"Ingrese una tupla de tuplas con números (ejemplo: ((10, 10, 10, 12), (30, 45, 56, 45), (81, 80, 39, 32))): \")\n",
    "\n",
    "\n",
    "try:\n",
    "    tupla_de_tuplas = eval(entrada)\n",
    "    \n",
    "    if all(isinstance(tupla, tuple) and all(isinstance(num, (int, float)) for num in tupla) for tupla in tupla_de_tuplas):\n",
    "        \n",
    "        resultado = calculo_promedios(tupla_de_tuplas)\n",
    "        print(\"Tupla original:\", tupla_de_tuplas)\n",
    "        print(\"Promedio de cada tupla:\", resultado)\n",
    "    else:\n",
    "        print(\"Error: Asegúrate de ingresar una tupla de tuplas con números.\")\n",
    "except:\n",
    "    print(\"Error: Entrada inválida. Asegúrate de usar el formato correcto.\")"
   ]
  },
  {
   "cell_type": "markdown",
   "id": "3df230c1-164e-413e-a444-a3640738a7a2",
   "metadata": {},
   "source": [
    "Ejercicio #8"
   ]
  },
  {
   "cell_type": "code",
   "execution_count": 15,
   "id": "52303162-03b1-412e-a84e-c58f4943ed71",
   "metadata": {},
   "outputs": [
    {
     "name": "stdin",
     "output_type": "stream",
     "text": [
      "Ingrese el título del libro:  de la selva\n",
      "Ingrese el autor del libro:  jose jose\n",
      "Ingrese el número de páginas:  345\n"
     ]
    },
    {
     "name": "stdout",
     "output_type": "stream",
     "text": [
      "\n",
      "Descripción del libro:\n",
      "Título: de la selva\n",
      "Autor: jose jose\n",
      "Páginas: 345\n",
      "Estado: no leído\n"
     ]
    },
    {
     "name": "stdin",
     "output_type": "stream",
     "text": [
      "\n",
      "¿Ha leído el libro? (s/n):  s\n"
     ]
    },
    {
     "name": "stdout",
     "output_type": "stream",
     "text": [
      "\n",
      "Descripción actualizada del libro:\n",
      "Título: de la selva\n",
      "Autor: jose jose\n",
      "Páginas: 345\n",
      "Estado: leído\n"
     ]
    }
   ],
   "source": [
    "class Book:\n",
    "    \n",
    "    def __init__(self, titulo, autor, num_paginas):\n",
    "        self.titulo = titulo\n",
    "        self.autor = autor\n",
    "        self.num_paginas = num_paginas\n",
    "        self.leido = False  \n",
    "    \n",
    "    \n",
    "    def marcar_como_leido(self):  # Corregido aquí\n",
    "        self.leido = True\n",
    "    \n",
    "    \n",
    "    def descripcion(self):\n",
    "        estado = \"leído\" if self.leido else \"no leído\"\n",
    "        return f\"Título: {self.titulo}\\nAutor: {self.autor}\\nPáginas: {self.num_paginas}\\nEstado: {estado}\"\n",
    "\n",
    "\n",
    "def result():\n",
    "    titulo = input(\"Ingrese el título del libro: \")\n",
    "    autor = input(\"Ingrese el autor del libro: \")\n",
    "    num_paginas = int(input(\"Ingrese el número de páginas: \"))\n",
    "    \n",
    "    \n",
    "    libro = Book(titulo, autor, num_paginas)\n",
    "    \n",
    "    \n",
    "    print(\"\\nDescripción del libro:\")\n",
    "    print(libro.descripcion())\n",
    "    \n",
    "    \n",
    "    respuesta = input(\"\\n¿Ha leído el libro? (s/n): \")\n",
    "    if respuesta.lower() == 's':\n",
    "        libro.marcar_como_leido()  \n",
    "    \n",
    "    \n",
    "    print(\"\\nDescripción actualizada del libro:\")\n",
    "    print(libro.descripcion())\n",
    "\n",
    "\n",
    "if __name__ == \"__main__\":\n",
    "    result()"
   ]
  },
  {
   "cell_type": "markdown",
   "id": "8462f6d2-ab51-4424-a5b3-3ddba1418786",
   "metadata": {},
   "source": [
    "Ejercicio #9"
   ]
  },
  {
   "cell_type": "code",
   "execution_count": 16,
   "id": "7984d258-ee58-4551-a40c-502168d5e551",
   "metadata": {},
   "outputs": [
    {
     "name": "stdin",
     "output_type": "stream",
     "text": [
      "Ingrese el radio del círculo:  458\n"
     ]
    },
    {
     "name": "stdout",
     "output_type": "stream",
     "text": [
      "\n",
      "Área del círculo: 658993.04\n",
      "Circunferencia del círculo: 2877.70\n"
     ]
    }
   ],
   "source": [
    "import math  # Importar el módulo math para usar pi\n",
    "\n",
    "# Definino la clase Circulo\n",
    "class Circulo:\n",
    "    \n",
    "    def __init__(self, radio):\n",
    "        self.radio = radio\n",
    "\n",
    "    \n",
    "    def area(self):\n",
    "        return math.pi * (self.radio ** 2)\n",
    "\n",
    "    \n",
    "    def circunferencia(self):\n",
    "        return 2 * math.pi * self.radio\n",
    "\n",
    "\n",
    "def result():\n",
    "    \n",
    "    try:\n",
    "        radio = float(input(\"Ingrese el radio del círculo: \"))\n",
    "        if radio < 0:\n",
    "            print(\"El radio no puede ser negativo.\")\n",
    "            return\n",
    "\n",
    "        \n",
    "        circulo = Circulo(radio)\n",
    "\n",
    "      \n",
    "        print(f\"\\nÁrea del círculo: {circulo.area():.2f}\")\n",
    "        print(f\"Circunferencia del círculo: {circulo.circunferencia():.2f}\")\n",
    "\n",
    "    except ValueError:\n",
    "        print(\"Error: Ingrese un valor numérico válido para el radio.\")\n",
    "\n",
    "\n",
    "if __name__ == \"__main__\":\n",
    "    result()"
   ]
  },
  {
   "cell_type": "code",
   "execution_count": null,
   "id": "975d598c-bfc5-45f6-b667-0f5f4a109432",
   "metadata": {},
   "outputs": [],
   "source": []
  }
 ],
 "metadata": {
  "kernelspec": {
   "display_name": "Python 3 (ipykernel)",
   "language": "python",
   "name": "python3"
  },
  "language_info": {
   "codemirror_mode": {
    "name": "ipython",
    "version": 3
   },
   "file_extension": ".py",
   "mimetype": "text/x-python",
   "name": "python",
   "nbconvert_exporter": "python",
   "pygments_lexer": "ipython3",
   "version": "3.12.9"
  }
 },
 "nbformat": 4,
 "nbformat_minor": 5
}
